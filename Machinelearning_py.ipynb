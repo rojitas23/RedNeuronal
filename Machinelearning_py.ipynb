{
  "nbformat": 4,
  "nbformat_minor": 0,
  "metadata": {
    "colab": {
      "provenance": [],
      "authorship_tag": "ABX9TyP83TezfEPIUXyQ4JhwAxY8",
      "include_colab_link": true
    },
    "kernelspec": {
      "name": "python3",
      "display_name": "Python 3"
    },
    "language_info": {
      "name": "python"
    }
  },
  "cells": [
    {
      "cell_type": "markdown",
      "metadata": {
        "id": "view-in-github",
        "colab_type": "text"
      },
      "source": [
        "<a href=\"https://colab.research.google.com/github/rojitas23/RedNeuronal/blob/main/Machinelearning_py.ipynb\" target=\"_parent\"><img src=\"https://colab.research.google.com/assets/colab-badge.svg\" alt=\"Open In Colab\"/></a>"
      ]
    },
    {
      "cell_type": "code",
      "execution_count": null,
      "metadata": {
        "id": "llPy_tkW0d8J"
      },
      "outputs": [],
      "source": [
        "import tensorflow as tf\n",
        "import numpy as np\n",
        "\n",
        "celsuis = np.array([-40, -10, 0, 8, 15, 22, 38], dtype=float)\n",
        "fahrenheit = np.array([-40, 14, 32, 46, 59 ,72 ,100], dtype=float)"
      ]
    },
    {
      "cell_type": "code",
      "source": [
        "#capa = tf.keras.layers.Dense(units=1, input_shape=[1])\n",
        "#modelo = tf.keras.Sequential([capa])\n",
        "\n",
        "oculta1 = tf.keras.layers.Dense(units=3, input_shape=[1])\n",
        "oculta2 = tf.keras.layers.Dense(units=3)\n",
        "salida = tf.keras.layers.Dense(units=1)\n",
        "modelo = tf.keras.Sequential([oculta1, oculta2, salida])"
      ],
      "metadata": {
        "id": "3qhj3tJZ1Db7"
      },
      "execution_count": null,
      "outputs": []
    },
    {
      "cell_type": "code",
      "source": [
        "modelo.compile(\n",
        "    optimizer=tf.keras.optimizers.Adam(0.1),\n",
        "    loss='mean_squared_error'\n",
        ")"
      ],
      "metadata": {
        "id": "mDdSkX4l1cU0"
      },
      "execution_count": null,
      "outputs": []
    },
    {
      "cell_type": "code",
      "source": [
        "print(\"Comenazo entrenamiento...\")\n",
        "historial = modelo.fit(celsuis, fahrenheit, epochs=1000, verbose=False)\n",
        "print(\"Modelo entreando!\")\n",
        "\n"
      ],
      "metadata": {
        "colab": {
          "base_uri": "https://localhost:8080/"
        },
        "id": "yMoo2RAM1tu-",
        "outputId": "71a5fc55-4956-4392-954d-2b0199cc5928"
      },
      "execution_count": null,
      "outputs": [
        {
          "output_type": "stream",
          "name": "stdout",
          "text": [
            "Comenazo entrenamiento...\n",
            "Modelo entreando!\n"
          ]
        }
      ]
    },
    {
      "cell_type": "code",
      "source": [
        "import matplotlib.pyplot as plt\n",
        "plt.xlabel(\"# Epoca\")\n",
        "plt.ylabel(\"Magnitud de perdida\")\n",
        "plt.plot(historial.history[\"loss\"])"
      ],
      "metadata": {
        "colab": {
          "base_uri": "https://localhost:8080/",
          "height": 466
        },
        "id": "-qk3LcKk17Ic",
        "outputId": "346c98bc-7906-463e-9150-e0769eac892a"
      },
      "execution_count": null,
      "outputs": [
        {
          "output_type": "execute_result",
          "data": {
            "text/plain": [
              "[<matplotlib.lines.Line2D at 0x7f260b014490>]"
            ]
          },
          "metadata": {},
          "execution_count": 16
        },
        {
          "output_type": "display_data",
          "data": {
            "text/plain": [
              "<Figure size 640x480 with 1 Axes>"
            ],
            "image/png": "[encoded data removed]"
          },
          "metadata": {}
        }
      ]
    },
    {
      "cell_type": "code",
      "source": [
        "print(\"Haganos una prediccion!\")\n",
        "resultado = modelo.predict([100.0])\n",
        "print(\"El resutlado es \" + str(resultado) + \" fahremheit!\")"
      ],
      "metadata": {
        "colab": {
          "base_uri": "https://localhost:8080/"
        },
        "id": "AIN-la7z3E1P",
        "outputId": "fc882f46-8e91-4b93-fd1d-0e4837e40e90"
      },
      "execution_count": null,
      "outputs": [
        {
          "output_type": "stream",
          "name": "stdout",
          "text": [
            "Haganos una prediccion!\n",
            "1/1 [==============================] - 0s 44ms/step\n",
            "El resutlado es [[211.74745]] fahremheit!\n"
          ]
        }
      ]
    },
    {
      "cell_type": "code",
      "source": [
        "print(\"Variables internas del modelo\")\n",
        "#print(capa.get_weights())\n",
        "print(oculta1.get_weights())\n",
        "print(oculta2.get_weights())\n",
        "print(salida.get_weights())"
      ],
      "metadata": {
        "colab": {
          "base_uri": "https://localhost:8080/"
        },
        "id": "8GS49jbp3tlv",
        "outputId": "8f84b8a1-8841-409d-fac3-f3a35898a55a"
      },
      "execution_count": null,
      "outputs": [
        {
          "output_type": "stream",
          "name": "stdout",
          "text": [
            "Variables internas del modelo\n",
            "[array([[-0.90303606,  0.10612924, -0.35653076]], dtype=float32), array([-3.9983187, -3.6139083, -3.9462693], dtype=float32)]\n",
            "[array([[-0.34347636, -0.02668461, -1.0267814 ],\n",
            "       [-1.295441  , -0.16837901, -0.4022235 ],\n",
            "       [-1.4056282 ,  0.44585863, -0.7284739 ]], dtype=float32), array([3.9851165, 1.0107594, 3.9731064], dtype=float32)]\n",
            "[array([[ 1.0565836 ],\n",
            "       [-0.01306908],\n",
            "       [ 0.9473296 ]], dtype=float32), array([3.7296946], dtype=float32)]\n"
          ]
        }
      ]
    }
  ]
}